{
 "cells": [
  {
   "cell_type": "markdown",
   "metadata": {},
   "source": [
    "# H1b Visa prediction"
   ]
  },
  {
   "cell_type": "code",
   "execution_count": 1,
   "metadata": {},
   "outputs": [],
   "source": [
    "import numpy as np\n",
    "import pandas as pd\n",
    "import matplotlib.pyplot as plt\n",
    "import seaborn as sns\n",
    "from sklearn.model_selection import train_test_split\n",
    "from sklearn.ensemble import RandomForestRegressor\n",
    "from sklearn.tree import DecisionTreeClassifier\n",
    "from sklearn.neighbors import KNeighborsClassifier\n",
    "from sklearn.metrics import accuracy_score, r2_score, recall_score, precision_score, f1_score\n",
    "from sklearn.multioutput import MultiOutputRegressor\n",
    "from sklearn.linear_model import LogisticRegression\n",
    "from sklearn.metrics import roc_curve\n",
    "from sklearn.metrics import confusion_matrix\n",
    "from sklearn.metrics import classification_report\n",
    "from sklearn.metrics import roc_auc_score\n",
    "from sklearn import metrics"
   ]
  },
  {
   "cell_type": "code",
   "execution_count": 2,
   "metadata": {},
   "outputs": [
    {
     "name": "stdout",
     "output_type": "stream",
     "text": [
      "/Users/srinivasaluri/swarna-DS/Metis/Metis_BC/Challenges/Project3\r\n"
     ]
    }
   ],
   "source": [
    "!pwd"
   ]
  },
  {
   "cell_type": "code",
   "execution_count": 3,
   "metadata": {},
   "outputs": [
    {
     "data": {
      "text/plain": [
       "<bound method NDFrame.head of          Unnamed: 0       id case_status  \\\n",
       "0                 0        1   CERTIFIED   \n",
       "1                 1       11   CERTIFIED   \n",
       "2                 2       43   CERTIFIED   \n",
       "3                 3       75   CERTIFIED   \n",
       "4                 4      116   CERTIFIED   \n",
       "...             ...      ...         ...   \n",
       "1893240     1893240  3002354      DENIED   \n",
       "1893241     1893241  3002355      DENIED   \n",
       "1893242     1893242  3002357      DENIED   \n",
       "1893243     1893243  3002365      DENIED   \n",
       "1893244     1893244  3002368      DENIED   \n",
       "\n",
       "                                          employer_name  \\\n",
       "0                                            university   \n",
       "1                                      hj heinz company   \n",
       "2                                           sparity inc   \n",
       "3                                            university   \n",
       "4                                   stryker corporation   \n",
       "...                                                 ...   \n",
       "1893240  centers for disease control and preventiondhhs   \n",
       "1893241                                      iidya corp   \n",
       "1893242                                      iidya corp   \n",
       "1893243                                      university   \n",
       "1893244                                      university   \n",
       "\n",
       "                            soc_status  \\\n",
       "0        biochemists and biophysicists   \n",
       "1                     chief executives   \n",
       "2                     chief executives   \n",
       "3                     chief executives   \n",
       "4                     chief executives   \n",
       "...                                ...   \n",
       "1893240               health educators   \n",
       "1893241           computer programmers   \n",
       "1893242           computer programmers   \n",
       "1893243  biochemists and biophysicists   \n",
       "1893244             medical scientists   \n",
       "\n",
       "                                                job_title full_time    salary  \\\n",
       "0                            POSTDOCTORAL RESEARCH FELLOW         N   36067.0   \n",
       "1           CHIEF INFORMATION OFFICER HEINZ NORTH AMERICA         Y  182978.0   \n",
       "2                                      TECHNICAL DIRECTOR         Y  102190.0   \n",
       "3                                                DIRECTOR         Y   75293.0   \n",
       "4        VP GLOBAL IT GOVERNANCE  PERFORMANCE MEASUREMENT         Y  189862.0   \n",
       "...                                                   ...       ...       ...   \n",
       "1893240                        RESEARCH HEALTH SPECIALIST         Y   33134.0   \n",
       "1893241                                PROGRAMMER ANALYST         Y   43368.0   \n",
       "1893242                                PROGRAMMER ANALYST         Y   46488.0   \n",
       "1893243                              POSTDOCTORAL SCHOLAR         Y   38496.0   \n",
       "1893244                         SENIOR RESEARCH ASSOCIATE         Y   50357.0   \n",
       "\n",
       "           year             work_location         lon        lat  \\\n",
       "0        2016.0       ANN ARBOR, MICHIGAN  -83.743038  42.280826   \n",
       "1        2016.0  PITTSBURGH, PENNSYLVANIA  -79.995886  40.440625   \n",
       "2        2016.0       ALPHARETTA, GEORGIA  -84.294090  34.075376   \n",
       "3        2016.0          ALBANY, NEW YORK  -73.756232  42.652579   \n",
       "4        2016.0       KALAMAZOO, MICHIGAN  -85.587229  42.291707   \n",
       "...         ...                       ...         ...        ...   \n",
       "1893240  2011.0          CINCINNATI, OHIO  -84.512020  39.103118   \n",
       "1893241  2011.0         BEAVERTON, OREGON -122.803710  45.487062   \n",
       "1893242  2011.0            HOUSTON, TEXAS  -95.369803  29.760427   \n",
       "1893243  2011.0    SANTA CRUZ, CALIFORNIA -122.030796  36.974117   \n",
       "1893244  2011.0          PORTLAND, OREGON -122.676482  45.523062   \n",
       "\n",
       "        employer_other         state  west  mid_west  north_east  south  \\\n",
       "0           university      michigan     0         1           0      0   \n",
       "1                other  pennsylvania     0         0           1      0   \n",
       "2                other       georgia     0         0           0      1   \n",
       "3           university      new york     0         0           1      0   \n",
       "4                other      michigan     0         1           0      0   \n",
       "...                ...           ...   ...       ...         ...    ...   \n",
       "1893240          other          ohio     0         1           0      0   \n",
       "1893241          other        oregon     1         0           0      0   \n",
       "1893242          other         texas     0         0           0      1   \n",
       "1893243     university    california     1         0           0      0   \n",
       "1893244     university        oregon     1         0           0      0   \n",
       "\n",
       "                 jobs_other                     soc_other  \n",
       "0                     other  POSTDOCTORAL RESEARCH FELLOW  \n",
       "1                     other                         other  \n",
       "2                     other                         other  \n",
       "3                     other                         other  \n",
       "4                     other                         other  \n",
       "...                     ...                           ...  \n",
       "1893240               other                         other  \n",
       "1893241  PROGRAMMER ANALYST            PROGRAMMER ANALYST  \n",
       "1893242  PROGRAMMER ANALYST            PROGRAMMER ANALYST  \n",
       "1893243               other          POSTDOCTORAL SCHOLAR  \n",
       "1893244               other     SENIOR RESEARCH ASSOCIATE  \n",
       "\n",
       "[1893245 rows x 20 columns]>"
      ]
     },
     "execution_count": 3,
     "metadata": {},
     "output_type": "execute_result"
    }
   ],
   "source": [
    "df = pd.read_csv('h1b_case_status.csv')\n",
    "df.head"
   ]
  },
  {
   "cell_type": "code",
   "execution_count": 87,
   "metadata": {},
   "outputs": [
    {
     "name": "stderr",
     "output_type": "stream",
     "text": [
      "/Users/srinivasaluri/anaconda/lib/python3.6/site-packages/pandas/core/generic.py:9116: SettingWithCopyWarning: \n",
      "A value is trying to be set on a copy of a slice from a DataFrame\n",
      "\n",
      "See the caveats in the documentation: http://pandas.pydata.org/pandas-docs/stable/user_guide/indexing.html#returning-a-view-versus-a-copy\n",
      "  self._update_inplace(new_data)\n",
      "/Users/srinivasaluri/anaconda/lib/python3.6/site-packages/IPython/core/interactiveshell.py:2963: SettingWithCopyWarning: \n",
      "A value is trying to be set on a copy of a slice from a DataFrame\n",
      "\n",
      "See the caveats in the documentation: http://pandas.pydata.org/pandas-docs/stable/user_guide/indexing.html#returning-a-view-versus-a-copy\n",
      "  exec(code_obj, self.user_global_ns, self.user_ns)\n"
     ]
    }
   ],
   "source": [
    "df['soc_status'][df['soc_status'].str.contains('computer','software')] = 'it'\n",
    "df['soc_status'][df['soc_status'].str.contains('chief','management')] = 'manager'\n",
    "df['soc_status'][df['soc_status'].str.contains('mechanical')] = 'mechanical'\n",
    "df['soc_status'][df['soc_status'].str.contains('database')] = 'database'\n",
    "df['soc_status'][df['soc_status'].str.contains('sales','market')] = 'scm'\n",
    "df['soc_status'][df['soc_status'].str.contains('financial')] = 'finance'\n",
    "df['soc_status'][df['soc_status'].str.contains('public','fundraising')] = 'pr'\n",
    "df['soc_status'][df['soc_status'].str.contains('education','law')] = 'administrative'\n",
    "df['soc_status'][df['soc_status'].str.contains('auditors','compliance')] = 'audit'\n",
    "df['soc_status'][df['soc_status'].str.contains('distribution','logistics')] = 'scm'\n",
    "df['soc_status'][df['soc_status'].str.contains('recruiters','human')] = 'hr'\n",
    "df['soc_status'][df['soc_status'].str.contains('agricultural','farm')] = 'agri'\n",
    "df['soc_status'][df['soc_status'].str.contains('construction','architectural')] = 'estate'\n",
    "df['soc_status'][df['soc_status'].str.contains('forencsic','health')] = 'medical'\n",
    "df['soc_status'][df['soc_status'].str.contains('teachers')] = 'education'\n",
    "df['soc_status'][df['soc_status'].str.contains('programmer')] = 'it'\n",
    "df['soc_status'][df['soc_status'].str.contains('')] = 'it'\n",
    "\n"
   ]
  },
  {
   "cell_type": "code",
   "execution_count": 6,
   "metadata": {},
   "outputs": [
    {
     "data": {
      "text/plain": [
       "computer systems analysts               401373\n",
       "software developers                     337699\n",
       "computer programmers                    310008\n",
       "computer occupations                    164599\n",
       "management analysts                      46127\n",
       "                                         ...  \n",
       "engineering teachers - postsecondary         1\n",
       "microsystems engineers                       1\n",
       "datebase administrators                      1\n",
       "softwware developer                          1\n",
       "chemical engineer                            1\n",
       "Name: soc_status, Length: 730, dtype: int64"
      ]
     },
     "execution_count": 6,
     "metadata": {},
     "output_type": "execute_result"
    }
   ],
   "source": [
    "df.soc_status.value_counts()"
   ]
  },
  {
   "cell_type": "code",
   "execution_count": 7,
   "metadata": {},
   "outputs": [],
   "source": [
    "jobs_dummy = pd.get_dummies(df.jobs_other)\n",
    "employer_dummy = pd.get_dummies(df.employer_other)"
   ]
  },
  {
   "cell_type": "code",
   "execution_count": 9,
   "metadata": {},
   "outputs": [],
   "source": [
    "df = pd.concat([df,employer_dummy, jobs_dummy], axis = 1)"
   ]
  },
  {
   "cell_type": "code",
   "execution_count": 10,
   "metadata": {},
   "outputs": [],
   "source": [
    "df = df.dropna()"
   ]
  },
  {
   "cell_type": "code",
   "execution_count": 11,
   "metadata": {},
   "outputs": [
    {
     "data": {
      "text/plain": [
       "(1849351, 68)"
      ]
     },
     "execution_count": 11,
     "metadata": {},
     "output_type": "execute_result"
    }
   ],
   "source": [
    "df.shape"
   ]
  },
  {
   "cell_type": "code",
   "execution_count": 12,
   "metadata": {},
   "outputs": [],
   "source": [
    "df1 = df.drop(['Unnamed: 0','id','employer_name','soc_status','job_title','year','work_location', 'soc_other','state', 'lat', 'lon', 'employer_other'], axis = 1)"
   ]
  },
  {
   "cell_type": "code",
   "execution_count": 13,
   "metadata": {},
   "outputs": [
    {
     "data": {
      "text/html": [
       "<div>\n",
       "<style scoped>\n",
       "    .dataframe tbody tr th:only-of-type {\n",
       "        vertical-align: middle;\n",
       "    }\n",
       "\n",
       "    .dataframe tbody tr th {\n",
       "        vertical-align: top;\n",
       "    }\n",
       "\n",
       "    .dataframe thead th {\n",
       "        text-align: right;\n",
       "    }\n",
       "</style>\n",
       "<table border=\"1\" class=\"dataframe\">\n",
       "  <thead>\n",
       "    <tr style=\"text-align: right;\">\n",
       "      <th></th>\n",
       "      <th>case_status</th>\n",
       "      <th>full_time</th>\n",
       "      <th>salary</th>\n",
       "      <th>west</th>\n",
       "      <th>mid_west</th>\n",
       "      <th>north_east</th>\n",
       "      <th>south</th>\n",
       "      <th>jobs_other</th>\n",
       "      <th>accenture llp</th>\n",
       "      <th>amazon corporate llc</th>\n",
       "      <th>...</th>\n",
       "      <th>RESEARCH ASSOCIATE</th>\n",
       "      <th>SENIOR CONSULTANT</th>\n",
       "      <th>SENIOR SOFTWARE ENGINEER</th>\n",
       "      <th>SOFTWARE DEVELOPER</th>\n",
       "      <th>SOFTWARE ENGINEER</th>\n",
       "      <th>SYSTEMS ANALYST</th>\n",
       "      <th>SYSTEMS ENGINEER  US</th>\n",
       "      <th>TECHNOLOGY ANALYST  US</th>\n",
       "      <th>TECHNOLOGY LEAD  US</th>\n",
       "      <th>other</th>\n",
       "    </tr>\n",
       "  </thead>\n",
       "  <tbody>\n",
       "    <tr>\n",
       "      <th>0</th>\n",
       "      <td>CERTIFIED</td>\n",
       "      <td>N</td>\n",
       "      <td>36067.0</td>\n",
       "      <td>0</td>\n",
       "      <td>1</td>\n",
       "      <td>0</td>\n",
       "      <td>0</td>\n",
       "      <td>other</td>\n",
       "      <td>0</td>\n",
       "      <td>0</td>\n",
       "      <td>...</td>\n",
       "      <td>0</td>\n",
       "      <td>0</td>\n",
       "      <td>0</td>\n",
       "      <td>0</td>\n",
       "      <td>0</td>\n",
       "      <td>0</td>\n",
       "      <td>0</td>\n",
       "      <td>0</td>\n",
       "      <td>0</td>\n",
       "      <td>1</td>\n",
       "    </tr>\n",
       "    <tr>\n",
       "      <th>1</th>\n",
       "      <td>CERTIFIED</td>\n",
       "      <td>Y</td>\n",
       "      <td>182978.0</td>\n",
       "      <td>0</td>\n",
       "      <td>0</td>\n",
       "      <td>1</td>\n",
       "      <td>0</td>\n",
       "      <td>other</td>\n",
       "      <td>0</td>\n",
       "      <td>0</td>\n",
       "      <td>...</td>\n",
       "      <td>0</td>\n",
       "      <td>0</td>\n",
       "      <td>0</td>\n",
       "      <td>0</td>\n",
       "      <td>0</td>\n",
       "      <td>0</td>\n",
       "      <td>0</td>\n",
       "      <td>0</td>\n",
       "      <td>0</td>\n",
       "      <td>1</td>\n",
       "    </tr>\n",
       "    <tr>\n",
       "      <th>2</th>\n",
       "      <td>CERTIFIED</td>\n",
       "      <td>Y</td>\n",
       "      <td>102190.0</td>\n",
       "      <td>0</td>\n",
       "      <td>0</td>\n",
       "      <td>0</td>\n",
       "      <td>1</td>\n",
       "      <td>other</td>\n",
       "      <td>0</td>\n",
       "      <td>0</td>\n",
       "      <td>...</td>\n",
       "      <td>0</td>\n",
       "      <td>0</td>\n",
       "      <td>0</td>\n",
       "      <td>0</td>\n",
       "      <td>0</td>\n",
       "      <td>0</td>\n",
       "      <td>0</td>\n",
       "      <td>0</td>\n",
       "      <td>0</td>\n",
       "      <td>1</td>\n",
       "    </tr>\n",
       "    <tr>\n",
       "      <th>3</th>\n",
       "      <td>CERTIFIED</td>\n",
       "      <td>Y</td>\n",
       "      <td>75293.0</td>\n",
       "      <td>0</td>\n",
       "      <td>0</td>\n",
       "      <td>1</td>\n",
       "      <td>0</td>\n",
       "      <td>other</td>\n",
       "      <td>0</td>\n",
       "      <td>0</td>\n",
       "      <td>...</td>\n",
       "      <td>0</td>\n",
       "      <td>0</td>\n",
       "      <td>0</td>\n",
       "      <td>0</td>\n",
       "      <td>0</td>\n",
       "      <td>0</td>\n",
       "      <td>0</td>\n",
       "      <td>0</td>\n",
       "      <td>0</td>\n",
       "      <td>1</td>\n",
       "    </tr>\n",
       "    <tr>\n",
       "      <th>4</th>\n",
       "      <td>CERTIFIED</td>\n",
       "      <td>Y</td>\n",
       "      <td>189862.0</td>\n",
       "      <td>0</td>\n",
       "      <td>1</td>\n",
       "      <td>0</td>\n",
       "      <td>0</td>\n",
       "      <td>other</td>\n",
       "      <td>0</td>\n",
       "      <td>0</td>\n",
       "      <td>...</td>\n",
       "      <td>0</td>\n",
       "      <td>0</td>\n",
       "      <td>0</td>\n",
       "      <td>0</td>\n",
       "      <td>0</td>\n",
       "      <td>0</td>\n",
       "      <td>0</td>\n",
       "      <td>0</td>\n",
       "      <td>0</td>\n",
       "      <td>1</td>\n",
       "    </tr>\n",
       "  </tbody>\n",
       "</table>\n",
       "<p>5 rows × 56 columns</p>\n",
       "</div>"
      ],
      "text/plain": [
       "  case_status full_time    salary  west  mid_west  north_east  south  \\\n",
       "0   CERTIFIED         N   36067.0     0         1           0      0   \n",
       "1   CERTIFIED         Y  182978.0     0         0           1      0   \n",
       "2   CERTIFIED         Y  102190.0     0         0           0      1   \n",
       "3   CERTIFIED         Y   75293.0     0         0           1      0   \n",
       "4   CERTIFIED         Y  189862.0     0         1           0      0   \n",
       "\n",
       "  jobs_other  accenture llp  amazon corporate llc  ...  RESEARCH ASSOCIATE  \\\n",
       "0      other              0                     0  ...                   0   \n",
       "1      other              0                     0  ...                   0   \n",
       "2      other              0                     0  ...                   0   \n",
       "3      other              0                     0  ...                   0   \n",
       "4      other              0                     0  ...                   0   \n",
       "\n",
       "   SENIOR CONSULTANT  SENIOR SOFTWARE ENGINEER  SOFTWARE DEVELOPER  \\\n",
       "0                  0                         0                   0   \n",
       "1                  0                         0                   0   \n",
       "2                  0                         0                   0   \n",
       "3                  0                         0                   0   \n",
       "4                  0                         0                   0   \n",
       "\n",
       "   SOFTWARE ENGINEER  SYSTEMS ANALYST  SYSTEMS ENGINEER  US  \\\n",
       "0                  0                0                     0   \n",
       "1                  0                0                     0   \n",
       "2                  0                0                     0   \n",
       "3                  0                0                     0   \n",
       "4                  0                0                     0   \n",
       "\n",
       "   TECHNOLOGY ANALYST  US  TECHNOLOGY LEAD  US  other  \n",
       "0                       0                    0      1  \n",
       "1                       0                    0      1  \n",
       "2                       0                    0      1  \n",
       "3                       0                    0      1  \n",
       "4                       0                    0      1  \n",
       "\n",
       "[5 rows x 56 columns]"
      ]
     },
     "execution_count": 13,
     "metadata": {},
     "output_type": "execute_result"
    }
   ],
   "source": [
    "df1.head(5)"
   ]
  },
  {
   "cell_type": "code",
   "execution_count": 117,
   "metadata": {},
   "outputs": [],
   "source": [
    "df1.columns = [x.lower() for x in df1.columns]"
   ]
  },
  {
   "cell_type": "code",
   "execution_count": 192,
   "metadata": {
    "collapsed": true
   },
   "outputs": [
    {
     "data": {
      "text/plain": [
       "['case_status',\n",
       " 'full_time',\n",
       " 'salary',\n",
       " 'west',\n",
       " 'mid_west',\n",
       " 'north_east',\n",
       " 'south',\n",
       " 'accenture llp',\n",
       " 'amazon corporate llc',\n",
       " 'apple inc',\n",
       " 'capgemini america inc',\n",
       " 'cognizant technology solutions us corporation',\n",
       " 'deloitte  touche llp',\n",
       " 'deloitte consulting llp',\n",
       " 'ernst  young us llp',\n",
       " 'google inc',\n",
       " 'hcl america inc',\n",
       " 'ibm corporation',\n",
       " 'ibm india private limited',\n",
       " 'igate technologies inc',\n",
       " 'infosys limited',\n",
       " 'intel corporation',\n",
       " 'jpmorgan chase  co',\n",
       " 'larsen  toubro infotech limited',\n",
       " 'microsoft corporation',\n",
       " 'oracle america inc',\n",
       " 'other',\n",
       " 'tata consultancy services limited',\n",
       " 'tech mahindra americas inc',\n",
       " 'tech mahindra americasinc',\n",
       " 'university',\n",
       " 'ust global inc',\n",
       " 'wipro limited',\n",
       " 'assistant professor',\n",
       " 'business analyst',\n",
       " 'computer programmer',\n",
       " 'computer programmer analyst',\n",
       " 'computer systems analyst',\n",
       " 'consultant',\n",
       " 'database administrator',\n",
       " 'developer',\n",
       " 'lead engineer',\n",
       " 'physical therapist',\n",
       " 'programmer analyst',\n",
       " 'project manager',\n",
       " 'research associate',\n",
       " 'senior consultant',\n",
       " 'senior software engineer',\n",
       " 'software developer',\n",
       " 'software engineer',\n",
       " 'systems analyst',\n",
       " 'systems engineer  us',\n",
       " 'technology analyst  us',\n",
       " 'technology lead  us',\n",
       " 'other']"
      ]
     },
     "execution_count": 192,
     "metadata": {},
     "output_type": "execute_result"
    }
   ],
   "source": [
    "list(df1.columns)"
   ]
  },
  {
   "cell_type": "code",
   "execution_count": 15,
   "metadata": {},
   "outputs": [],
   "source": [
    "df1 = df1.drop(['jobs_other'], axis = 1)"
   ]
  },
  {
   "cell_type": "code",
   "execution_count": 16,
   "metadata": {},
   "outputs": [],
   "source": [
    "df1.replace(['Y', 'N'], [1,0], inplace = True)"
   ]
  },
  {
   "cell_type": "code",
   "execution_count": 17,
   "metadata": {},
   "outputs": [],
   "source": [
    "df1.replace(['CERTIFIED', 'DENIED'], [0,1], inplace = True)"
   ]
  },
  {
   "cell_type": "code",
   "execution_count": 18,
   "metadata": {},
   "outputs": [],
   "source": [
    "df1 = df1.dropna()"
   ]
  },
  {
   "cell_type": "markdown",
   "metadata": {},
   "source": [
    "### Random Forest"
   ]
  },
  {
   "cell_type": "code",
   "execution_count": 19,
   "metadata": {},
   "outputs": [
    {
     "name": "stdout",
     "output_type": "stream",
     "text": [
      "(1849351, 54) (1849351,)\n"
     ]
    }
   ],
   "source": [
    "X = df1.iloc[:, 1:]\n",
    "y = df1.iloc[:, 0]\n",
    "print(X.shape, y.shape)"
   ]
  },
  {
   "cell_type": "code",
   "execution_count": 20,
   "metadata": {},
   "outputs": [],
   "source": [
    "X_train, X_test, y_train, y_test = train_test_split(X, y, test_size = 0.2, random_state = 40)"
   ]
  },
  {
   "cell_type": "code",
   "execution_count": 21,
   "metadata": {},
   "outputs": [],
   "source": [
    "from sklearn.ensemble import RandomForestClassifier\n",
    "rdf = RandomForestClassifier(n_estimators = 100, max_depth = 10)\n",
    "rdf.fit(X_train, y_train)\n",
    "rdf.score(X_train, y_train)\n",
    "y_pred = rdf.predict(X_test)  "
   ]
  },
  {
   "cell_type": "code",
   "execution_count": 22,
   "metadata": {},
   "outputs": [
    {
     "name": "stdout",
     "output_type": "stream",
     "text": [
      "0.9884067688464356 0.940677966101695 0.04937722419928826 0.09382924767540153 0.5246694537007388\n"
     ]
    }
   ],
   "source": [
    "#Scores for random forest model\n",
    "print(accuracy_score(y_test, y_pred),\n",
    "      precision_score(y_test, y_pred),\n",
    "      recall_score(y_test, y_pred),\n",
    "      f1_score(y_test, y_pred),\n",
    "     roc_auc_score(y_test, y_pred))"
   ]
  },
  {
   "cell_type": "code",
   "execution_count": 23,
   "metadata": {},
   "outputs": [
    {
     "name": "stdout",
     "output_type": "stream",
     "text": [
      "Random forest confusion matrix: \n",
      "\n",
      " [[365361     14]\n",
      " [  4274    222]]\n"
     ]
    }
   ],
   "source": [
    "print(\"Random forest confusion matrix: \\n\\n\", confusion_matrix(y_test, rdf.predict(X_test)))"
   ]
  },
  {
   "cell_type": "code",
   "execution_count": 29,
   "metadata": {},
   "outputs": [],
   "source": [
    "predict_proba = rdf.predict_proba(X_test)[:,1]\n",
    "fpr_rdf, tpr_rdf, thresholds = metrics.roc_curve(y_test,predict_proba)"
   ]
  },
  {
   "cell_type": "markdown",
   "metadata": {},
   "source": [
    "#### Threshold_adjustment(F1_score)\n",
    "Make test and train split followed by train and validation sets. validate F1 score on val_set and score on test_set."
   ]
  },
  {
   "cell_type": "code",
   "execution_count": 25,
   "metadata": {},
   "outputs": [],
   "source": [
    "#make test and train split\n",
    "X_train, X_test, y_train, y_test = train_test_split(X, y, test_size = 0.2, random_state = 10)\n",
    "X_tr, X_val, y_tr, y_val = train_test_split(X_train, y_train, test_size = 0.2, random_state = 10)\n"
   ]
  },
  {
   "cell_type": "code",
   "execution_count": 26,
   "metadata": {},
   "outputs": [],
   "source": [
    "rdf = RandomForestClassifier(n_estimators = 100, max_depth = 10)\n",
    "rdf.fit(X_tr, y_tr)\n",
    "rdf.score(X_tr, y_tr)\n",
    "y_pred = rdf.predict(X_val)"
   ]
  },
  {
   "cell_type": "code",
   "execution_count": 137,
   "metadata": {},
   "outputs": [
    {
     "ename": "AttributeError",
     "evalue": "'Text' object has no property 'colour'",
     "output_type": "error",
     "traceback": [
      "\u001b[0;31m---------------------------------------------------------------------------\u001b[0m",
      "\u001b[0;31mAttributeError\u001b[0m                            Traceback (most recent call last)",
      "\u001b[0;32m<ipython-input-137-95b739e8873d>\u001b[0m in \u001b[0;36m<module>\u001b[0;34m()\u001b[0m\n\u001b[1;32m      9\u001b[0m \u001b[0;34m\u001b[0m\u001b[0m\n\u001b[1;32m     10\u001b[0m \u001b[0mplt\u001b[0m\u001b[0;34m.\u001b[0m\u001b[0mplot\u001b[0m\u001b[0;34m(\u001b[0m\u001b[0mthresh_ps\u001b[0m\u001b[0;34m,\u001b[0m \u001b[0mf1_scores\u001b[0m\u001b[0;34m)\u001b[0m\u001b[0;34m\u001b[0m\u001b[0m\n\u001b[0;32m---> 11\u001b[0;31m \u001b[0mplt\u001b[0m\u001b[0;34m.\u001b[0m\u001b[0mtitle\u001b[0m\u001b[0;34m(\u001b[0m\u001b[0;34m'F1 Score vs. Positive Class Decision Probability Threshold'\u001b[0m\u001b[0;34m,\u001b[0m \u001b[0mfontsize\u001b[0m \u001b[0;34m=\u001b[0m \u001b[0;36m16\u001b[0m\u001b[0;34m,\u001b[0m \u001b[0mcolour\u001b[0m \u001b[0;34m=\u001b[0m \u001b[0;34m'blue'\u001b[0m\u001b[0;34m)\u001b[0m\u001b[0;34m\u001b[0m\u001b[0m\n\u001b[0m\u001b[1;32m     12\u001b[0m \u001b[0mplt\u001b[0m\u001b[0;34m.\u001b[0m\u001b[0mxlabel\u001b[0m\u001b[0;34m(\u001b[0m\u001b[0;34m'P threshold'\u001b[0m\u001b[0;34m,\u001b[0m \u001b[0mfontsize\u001b[0m \u001b[0;34m=\u001b[0m \u001b[0;36m14\u001b[0m\u001b[0;34m)\u001b[0m\u001b[0;34m\u001b[0m\u001b[0m\n\u001b[1;32m     13\u001b[0m \u001b[0mplt\u001b[0m\u001b[0;34m.\u001b[0m\u001b[0mylabel\u001b[0m\u001b[0;34m(\u001b[0m\u001b[0;34m'F1 score'\u001b[0m\u001b[0;34m,\u001b[0m \u001b[0mfontsize\u001b[0m \u001b[0;34m=\u001b[0m \u001b[0;36m14\u001b[0m\u001b[0;34m)\u001b[0m\u001b[0;34m\u001b[0m\u001b[0m\n",
      "\u001b[0;32m~/anaconda/lib/python3.6/site-packages/matplotlib/pyplot.py\u001b[0m in \u001b[0;36mtitle\u001b[0;34m(label, fontdict, loc, pad, **kwargs)\u001b[0m\n\u001b[1;32m   3060\u001b[0m \u001b[0;32mdef\u001b[0m \u001b[0mtitle\u001b[0m\u001b[0;34m(\u001b[0m\u001b[0mlabel\u001b[0m\u001b[0;34m,\u001b[0m \u001b[0mfontdict\u001b[0m\u001b[0;34m=\u001b[0m\u001b[0;32mNone\u001b[0m\u001b[0;34m,\u001b[0m \u001b[0mloc\u001b[0m\u001b[0;34m=\u001b[0m\u001b[0;34m'center'\u001b[0m\u001b[0;34m,\u001b[0m \u001b[0mpad\u001b[0m\u001b[0;34m=\u001b[0m\u001b[0;32mNone\u001b[0m\u001b[0;34m,\u001b[0m \u001b[0;34m**\u001b[0m\u001b[0mkwargs\u001b[0m\u001b[0;34m)\u001b[0m\u001b[0;34m:\u001b[0m\u001b[0;34m\u001b[0m\u001b[0m\n\u001b[1;32m   3061\u001b[0m     return gca().set_title(\n\u001b[0;32m-> 3062\u001b[0;31m         label, fontdict=fontdict, loc=loc, pad=pad, **kwargs)\n\u001b[0m\u001b[1;32m   3063\u001b[0m \u001b[0;34m\u001b[0m\u001b[0m\n\u001b[1;32m   3064\u001b[0m \u001b[0;34m\u001b[0m\u001b[0m\n",
      "\u001b[0;32m~/anaconda/lib/python3.6/site-packages/matplotlib/axes/_axes.py\u001b[0m in \u001b[0;36mset_title\u001b[0;34m(self, label, fontdict, loc, pad, **kwargs)\u001b[0m\n\u001b[1;32m    211\u001b[0m         \u001b[0;32mif\u001b[0m \u001b[0mfontdict\u001b[0m \u001b[0;32mis\u001b[0m \u001b[0;32mnot\u001b[0m \u001b[0;32mNone\u001b[0m\u001b[0;34m:\u001b[0m\u001b[0;34m\u001b[0m\u001b[0m\n\u001b[1;32m    212\u001b[0m             \u001b[0mtitle\u001b[0m\u001b[0;34m.\u001b[0m\u001b[0mupdate\u001b[0m\u001b[0;34m(\u001b[0m\u001b[0mfontdict\u001b[0m\u001b[0;34m)\u001b[0m\u001b[0;34m\u001b[0m\u001b[0m\n\u001b[0;32m--> 213\u001b[0;31m         \u001b[0mtitle\u001b[0m\u001b[0;34m.\u001b[0m\u001b[0mupdate\u001b[0m\u001b[0;34m(\u001b[0m\u001b[0mkwargs\u001b[0m\u001b[0;34m)\u001b[0m\u001b[0;34m\u001b[0m\u001b[0m\n\u001b[0m\u001b[1;32m    214\u001b[0m         \u001b[0;32mreturn\u001b[0m \u001b[0mtitle\u001b[0m\u001b[0;34m\u001b[0m\u001b[0m\n\u001b[1;32m    215\u001b[0m \u001b[0;34m\u001b[0m\u001b[0m\n",
      "\u001b[0;32m~/anaconda/lib/python3.6/site-packages/matplotlib/text.py\u001b[0m in \u001b[0;36mupdate\u001b[0;34m(self, kwargs)\u001b[0m\n\u001b[1;32m    175\u001b[0m         \u001b[0msentinel\u001b[0m \u001b[0;34m=\u001b[0m \u001b[0mobject\u001b[0m\u001b[0;34m(\u001b[0m\u001b[0;34m)\u001b[0m  \u001b[0;31m# bbox can be None, so use another sentinel.\u001b[0m\u001b[0;34m\u001b[0m\u001b[0m\n\u001b[1;32m    176\u001b[0m         \u001b[0mbbox\u001b[0m \u001b[0;34m=\u001b[0m \u001b[0mkwargs\u001b[0m\u001b[0;34m.\u001b[0m\u001b[0mpop\u001b[0m\u001b[0;34m(\u001b[0m\u001b[0;34m\"bbox\"\u001b[0m\u001b[0;34m,\u001b[0m \u001b[0msentinel\u001b[0m\u001b[0;34m)\u001b[0m\u001b[0;34m\u001b[0m\u001b[0m\n\u001b[0;32m--> 177\u001b[0;31m         \u001b[0msuper\u001b[0m\u001b[0;34m(\u001b[0m\u001b[0;34m)\u001b[0m\u001b[0;34m.\u001b[0m\u001b[0mupdate\u001b[0m\u001b[0;34m(\u001b[0m\u001b[0mkwargs\u001b[0m\u001b[0;34m)\u001b[0m\u001b[0;34m\u001b[0m\u001b[0m\n\u001b[0m\u001b[1;32m    178\u001b[0m         \u001b[0;32mif\u001b[0m \u001b[0mbbox\u001b[0m \u001b[0;32mis\u001b[0m \u001b[0;32mnot\u001b[0m \u001b[0msentinel\u001b[0m\u001b[0;34m:\u001b[0m\u001b[0;34m\u001b[0m\u001b[0m\n\u001b[1;32m    179\u001b[0m             \u001b[0mself\u001b[0m\u001b[0;34m.\u001b[0m\u001b[0mset_bbox\u001b[0m\u001b[0;34m(\u001b[0m\u001b[0mbbox\u001b[0m\u001b[0;34m)\u001b[0m\u001b[0;34m\u001b[0m\u001b[0m\n",
      "\u001b[0;32m~/anaconda/lib/python3.6/site-packages/matplotlib/artist.py\u001b[0m in \u001b[0;36mupdate\u001b[0;34m(self, props)\u001b[0m\n\u001b[1;32m    972\u001b[0m \u001b[0;34m\u001b[0m\u001b[0m\n\u001b[1;32m    973\u001b[0m         \u001b[0;32mwith\u001b[0m \u001b[0mcbook\u001b[0m\u001b[0;34m.\u001b[0m\u001b[0m_setattr_cm\u001b[0m\u001b[0;34m(\u001b[0m\u001b[0mself\u001b[0m\u001b[0;34m,\u001b[0m \u001b[0meventson\u001b[0m\u001b[0;34m=\u001b[0m\u001b[0;32mFalse\u001b[0m\u001b[0;34m)\u001b[0m\u001b[0;34m:\u001b[0m\u001b[0;34m\u001b[0m\u001b[0m\n\u001b[0;32m--> 974\u001b[0;31m             \u001b[0mret\u001b[0m \u001b[0;34m=\u001b[0m \u001b[0;34m[\u001b[0m\u001b[0m_update_property\u001b[0m\u001b[0;34m(\u001b[0m\u001b[0mself\u001b[0m\u001b[0;34m,\u001b[0m \u001b[0mk\u001b[0m\u001b[0;34m,\u001b[0m \u001b[0mv\u001b[0m\u001b[0;34m)\u001b[0m \u001b[0;32mfor\u001b[0m \u001b[0mk\u001b[0m\u001b[0;34m,\u001b[0m \u001b[0mv\u001b[0m \u001b[0;32min\u001b[0m \u001b[0mprops\u001b[0m\u001b[0;34m.\u001b[0m\u001b[0mitems\u001b[0m\u001b[0;34m(\u001b[0m\u001b[0;34m)\u001b[0m\u001b[0;34m]\u001b[0m\u001b[0;34m\u001b[0m\u001b[0m\n\u001b[0m\u001b[1;32m    975\u001b[0m \u001b[0;34m\u001b[0m\u001b[0m\n\u001b[1;32m    976\u001b[0m         \u001b[0;32mif\u001b[0m \u001b[0mlen\u001b[0m\u001b[0;34m(\u001b[0m\u001b[0mret\u001b[0m\u001b[0;34m)\u001b[0m\u001b[0;34m:\u001b[0m\u001b[0;34m\u001b[0m\u001b[0m\n",
      "\u001b[0;32m~/anaconda/lib/python3.6/site-packages/matplotlib/artist.py\u001b[0m in \u001b[0;36m<listcomp>\u001b[0;34m(.0)\u001b[0m\n\u001b[1;32m    972\u001b[0m \u001b[0;34m\u001b[0m\u001b[0m\n\u001b[1;32m    973\u001b[0m         \u001b[0;32mwith\u001b[0m \u001b[0mcbook\u001b[0m\u001b[0;34m.\u001b[0m\u001b[0m_setattr_cm\u001b[0m\u001b[0;34m(\u001b[0m\u001b[0mself\u001b[0m\u001b[0;34m,\u001b[0m \u001b[0meventson\u001b[0m\u001b[0;34m=\u001b[0m\u001b[0;32mFalse\u001b[0m\u001b[0;34m)\u001b[0m\u001b[0;34m:\u001b[0m\u001b[0;34m\u001b[0m\u001b[0m\n\u001b[0;32m--> 974\u001b[0;31m             \u001b[0mret\u001b[0m \u001b[0;34m=\u001b[0m \u001b[0;34m[\u001b[0m\u001b[0m_update_property\u001b[0m\u001b[0;34m(\u001b[0m\u001b[0mself\u001b[0m\u001b[0;34m,\u001b[0m \u001b[0mk\u001b[0m\u001b[0;34m,\u001b[0m \u001b[0mv\u001b[0m\u001b[0;34m)\u001b[0m \u001b[0;32mfor\u001b[0m \u001b[0mk\u001b[0m\u001b[0;34m,\u001b[0m \u001b[0mv\u001b[0m \u001b[0;32min\u001b[0m \u001b[0mprops\u001b[0m\u001b[0;34m.\u001b[0m\u001b[0mitems\u001b[0m\u001b[0;34m(\u001b[0m\u001b[0;34m)\u001b[0m\u001b[0;34m]\u001b[0m\u001b[0;34m\u001b[0m\u001b[0m\n\u001b[0m\u001b[1;32m    975\u001b[0m \u001b[0;34m\u001b[0m\u001b[0m\n\u001b[1;32m    976\u001b[0m         \u001b[0;32mif\u001b[0m \u001b[0mlen\u001b[0m\u001b[0;34m(\u001b[0m\u001b[0mret\u001b[0m\u001b[0;34m)\u001b[0m\u001b[0;34m:\u001b[0m\u001b[0;34m\u001b[0m\u001b[0m\n",
      "\u001b[0;32m~/anaconda/lib/python3.6/site-packages/matplotlib/artist.py\u001b[0m in \u001b[0;36m_update_property\u001b[0;34m(self, k, v)\u001b[0m\n\u001b[1;32m    968\u001b[0m                 \u001b[0;32mif\u001b[0m \u001b[0;32mnot\u001b[0m \u001b[0mcallable\u001b[0m\u001b[0;34m(\u001b[0m\u001b[0mfunc\u001b[0m\u001b[0;34m)\u001b[0m\u001b[0;34m:\u001b[0m\u001b[0;34m\u001b[0m\u001b[0m\n\u001b[1;32m    969\u001b[0m                     raise AttributeError('{!r} object has no property {!r}'\n\u001b[0;32m--> 970\u001b[0;31m                                          .format(type(self).__name__, k))\n\u001b[0m\u001b[1;32m    971\u001b[0m                 \u001b[0;32mreturn\u001b[0m \u001b[0mfunc\u001b[0m\u001b[0;34m(\u001b[0m\u001b[0mv\u001b[0m\u001b[0;34m)\u001b[0m\u001b[0;34m\u001b[0m\u001b[0m\n\u001b[1;32m    972\u001b[0m \u001b[0;34m\u001b[0m\u001b[0m\n",
      "\u001b[0;31mAttributeError\u001b[0m: 'Text' object has no property 'colour'"
     ]
    },
    {
     "data": {
      "image/png": "[encoded data removed]",
      "text/plain": [
       "<Figure size 432x288 with 1 Axes>"
      ]
     },
     "metadata": {},
     "output_type": "display_data"
    }
   ],
   "source": [
    "#dummy threshold\n",
    "thresh_ps = np.linspace(.10,.50,1000)\n",
    "#predicting probabilities\n",
    "rdf_val_probs = rdf.predict_proba(X_val)[:,1]\n",
    "f1_scores = []\n",
    "for p in thresh_ps:\n",
    "    rdf_val_labels = rdf_val_probs >= p\n",
    "    f1_scores.append(f1_score(y_val, rdf_val_labels))\n",
    "    \n",
    "plt.plot(thresh_ps, f1_scores)\n",
    "plt.title('F1 Score vs. Positive Class Decision Probability Threshold', fontsize = 16, colour = 'blue')\n",
    "plt.xlabel('P threshold', fontsize = 14)\n",
    "plt.ylabel('F1 score', fontsize = 14)\n",
    "\n",
    "best_f1_score = np.max(f1_scores) \n",
    "best_thresh_p = thresh_ps[np.argmax(f1_scores)]\n",
    "\n",
    "print('Random forest Model best F1 score %.3f at prob decision threshold >= %.3f' \n",
    "      % (best_f1_score, best_thresh_p))"
   ]
  },
  {
   "cell_type": "code",
   "execution_count": 196,
   "metadata": {},
   "outputs": [
    {
     "data": {
      "image/png": "[encoded data removed]",
      "text/plain": [
       "<Figure size 432x288 with 1 Axes>"
      ]
     },
     "metadata": {},
     "output_type": "display_data"
    }
   ],
   "source": [
    "auc_rdf = np.trapz(tpr_rdf,fpr_rdf)\n",
    "plt.plot(fpr_rdf,tpr_rdf,label=\" auc=\"+str(auc_rdf))\n",
    "plt.xlabel('FPR')\n",
    "plt.ylabel('TPR')\n",
    "plt.title('ROC curve')\n",
    "plt.legend(loc=4)\n",
    "plt.show()"
   ]
  },
  {
   "cell_type": "code",
   "execution_count": 197,
   "metadata": {},
   "outputs": [
    {
     "data": {
      "image/png": "[encoded data removed]",
      "text/plain": [
       "<Figure size 720x504 with 2 Axes>"
      ]
     },
     "metadata": {},
     "output_type": "display_data"
    }
   ],
   "source": [
    "cm = print_confusion_matrix(confusion_matrix(y_test, rdf.predict(X_test)), ['ACCEPTED', 'DENIED'])"
   ]
  },
  {
   "cell_type": "markdown",
   "metadata": {
    "heading_collapsed": true
   },
   "source": [
    "### LogisticRegression"
   ]
  },
  {
   "cell_type": "code",
   "execution_count": 35,
   "metadata": {
    "hidden": true
   },
   "outputs": [
    {
     "name": "stderr",
     "output_type": "stream",
     "text": [
      "/Users/srinivasaluri/anaconda/lib/python3.6/site-packages/sklearn/linear_model/logistic.py:432: FutureWarning: Default solver will be changed to 'lbfgs' in 0.22. Specify a solver to silence this warning.\n",
      "  FutureWarning)\n"
     ]
    }
   ],
   "source": [
    "log = LogisticRegression(class_weight = {1:5, 0:1})\n",
    "log.fit(X_train, y_train)\n",
    "log.score(X_train, y_train)\n",
    "log_y_pred = log.predict(X_test)"
   ]
  },
  {
   "cell_type": "code",
   "execution_count": 37,
   "metadata": {
    "hidden": true
   },
   "outputs": [
    {
     "name": "stdout",
     "output_type": "stream",
     "text": [
      "0.9877247469945701 0.9943502824858758 0.03649181007671574 0.0704\n"
     ]
    }
   ],
   "source": [
    "print(accuracy_score(y_test, log_y_pred),\n",
    "      precision_score(y_test, log_y_pred),\n",
    "      recall_score(y_test, log_y_pred),\n",
    "      f1_score(y_test, log_y_pred))"
   ]
  },
  {
   "cell_type": "markdown",
   "metadata": {
    "heading_collapsed": true
   },
   "source": [
    "## Over sampling using SMOTE"
   ]
  },
  {
   "cell_type": "code",
   "execution_count": 96,
   "metadata": {
    "hidden": true
   },
   "outputs": [],
   "source": [
    "def print_confusion_matrix(confusion_matrix, class_names, figsize = (10,7), fontsize=18):\n",
    "    \"\"\"Prints a confusion matrix, as returned by sklearn.metrics.confusion_matrix, as a heatmap.\n",
    "    \n",
    "    Arguments\n",
    "    ---------\n",
    "    confusion_matrix: numpy.ndarray\n",
    "        The numpy.ndarray object returned from a call to sklearn.metrics.confusion_matrix. \n",
    "        Similarly constructed ndarrays can also be used.\n",
    "    class_names: list\n",
    "        An ordered list of class names, in the order they index the given confusion matrix.\n",
    "    figsize: tuple\n",
    "        A 2-long tuple, the first value determining the horizontal size of the ouputted figure,\n",
    "        the second determining the vertical size. Defaults to (10,7).\n",
    "    fontsize: int\n",
    "        Font size for axes labels. Defaults to 14.\n",
    "        \n",
    "    Returns\n",
    "    -------\n",
    "    matplotlib.figure.Figure\n",
    "        The resulting confusion matrix figure\n",
    "    \"\"\"\n",
    "    df_cm = pd.DataFrame(confusion_matrix, index=class_names, columns=class_names, )\n",
    "    fig = plt.figure(figsize=figsize)\n",
    "    try:\n",
    "        heatmap = sns.heatmap(df_cm, annot= True, fmt=\"d\", cmap = 'Blues')\n",
    "    except ValueError:\n",
    "        raise ValueError(\"Confusion matrix values must be integers.\")\n",
    "    heatmap.yaxis.set_ticklabels(heatmap.yaxis.get_ticklabels(), rotation=0, ha='right', fontsize=14)\n",
    "    heatmap.xaxis.set_ticklabels(heatmap.xaxis.get_ticklabels(), rotation=45, ha='right', fontsize=14)\n",
    "   \n",
    "    plt.ylabel('True label', fontsize = 16)\n",
    "    plt.xlabel('Predicted label', fontsize = 16)\n",
    "    return fig"
   ]
  },
  {
   "cell_type": "code",
   "execution_count": 198,
   "metadata": {
    "hidden": true
   },
   "outputs": [],
   "source": [
    "X = df1.iloc[:, 1:]\n",
    "y = df1.iloc[:, 0]\n",
    "X_train, X_test, y_train, y_test = train_test_split(X, y, \n",
    "                                                    test_size = 0.2, random_state=42)\n"
   ]
  },
  {
   "cell_type": "code",
   "execution_count": 199,
   "metadata": {
    "hidden": true
   },
   "outputs": [
    {
     "name": "stdout",
     "output_type": "stream",
     "text": [
      "0    1461311\n",
      "1      18169\n",
      "Name: case_status, dtype: int64 [1461311 1461311]\n"
     ]
    }
   ],
   "source": [
    "#Using SMOTE for oversampling\n",
    "from imblearn.over_sampling import SMOTE\n",
    "X_smoted, y_smoted = SMOTE(random_state=42).fit_sample(X_train,y_train)\n",
    "print(y_train.value_counts(), np.bincount(y_smoted))"
   ]
  },
  {
   "cell_type": "markdown",
   "metadata": {
    "heading_collapsed": true,
    "hidden": true
   },
   "source": [
    "### Oversample Logistic Regression "
   ]
  },
  {
   "cell_type": "code",
   "execution_count": 200,
   "metadata": {
    "hidden": true
   },
   "outputs": [
    {
     "name": "stdout",
     "output_type": "stream",
     "text": [
      "0.012628727313036167 0.012628727313036167 1.0 0.02494246306155251\n"
     ]
    }
   ],
   "source": [
    "log_sm = LogisticRegression(C = 1, class_weight = {1:5, 0:1}, solver = 'liblinear')\n",
    "log_sm.fit(X_smoted, y_smoted)\n",
    "y_pred = log_sm.predict(X_test)\n",
    "print(accuracy_score(y_test, y_pred),\n",
    "      precision_score(y_test, y_pred),\n",
    "      recall_score(y_test, y_pred),\n",
    "      f1_score(y_test, y_pred))"
   ]
  },
  {
   "cell_type": "code",
   "execution_count": 201,
   "metadata": {
    "hidden": true
   },
   "outputs": [
    {
     "name": "stdout",
     "output_type": "stream",
     "text": [
      "LogisticRegression confusion matrix: \n",
      "\n",
      " [[     0 365200]\n",
      " [     0   4671]]\n"
     ]
    }
   ],
   "source": [
    "print(\"LogisticRegression confusion matrix: \\n\\n\", confusion_matrix(y_test, log_sm.predict(X_test)))"
   ]
  },
  {
   "cell_type": "code",
   "execution_count": 202,
   "metadata": {
    "hidden": true
   },
   "outputs": [
    {
     "data": {
      "image/png": "[encoded data removed]",
      "text/plain": [
       "<Figure size 720x504 with 2 Axes>"
      ]
     },
     "metadata": {},
     "output_type": "display_data"
    }
   ],
   "source": [
    "cm = print_confusion_matrix(confusion_matrix(y_test, log_sm.predict(X_test)), ['ACCEPTED', 'DENIED'])\n",
    "\n"
   ]
  },
  {
   "cell_type": "markdown",
   "metadata": {
    "heading_collapsed": true,
    "hidden": true
   },
   "source": [
    "### Oversampling RandomForest"
   ]
  },
  {
   "cell_type": "code",
   "execution_count": 203,
   "metadata": {
    "hidden": true
   },
   "outputs": [
    {
     "data": {
      "text/plain": [
       "0.853965035505789"
      ]
     },
     "execution_count": 203,
     "metadata": {},
     "output_type": "execute_result"
    }
   ],
   "source": [
    "rdf_sm = RandomForestClassifier(n_estimators = 100, max_depth = 10, min_samples_split = 3)\n",
    "rdf_sm.fit(X_smoted, y_smoted)\n",
    "rdf_sm.score(X_smoted, y_smoted)\n"
   ]
  },
  {
   "cell_type": "code",
   "execution_count": 204,
   "metadata": {
    "hidden": true
   },
   "outputs": [
    {
     "name": "stdout",
     "output_type": "stream",
     "text": [
      "0.958699114015427 0.0386322109109893 0.09505459216441875 0.05493689680772087\n"
     ]
    }
   ],
   "source": [
    "rdf_sm_y_pred = rdf_sm.predict(X_test)\n",
    "print(accuracy_score(y_test, rdf_sm_y_pred),\n",
    "      precision_score(y_test, rdf_sm_y_pred),\n",
    "      recall_score(y_test, rdf_sm_y_pred),\n",
    "      f1_score(y_test, rdf_sm_y_pred))"
   ]
  },
  {
   "cell_type": "code",
   "execution_count": 205,
   "metadata": {
    "hidden": true
   },
   "outputs": [
    {
     "name": "stdout",
     "output_type": "stream",
     "text": [
      "Over sampling Random forest matrix: \n",
      "\n",
      " [[354151  11049]\n",
      " [  4227    444]]\n"
     ]
    }
   ],
   "source": [
    "print(\"Over sampling Random forest matrix: \\n\\n\", confusion_matrix(y_test, rdf_sm.predict(X_test)))"
   ]
  },
  {
   "cell_type": "code",
   "execution_count": 206,
   "metadata": {
    "hidden": true
   },
   "outputs": [
    {
     "data": {
      "image/png": "[encoded data removed]",
      "text/plain": [
       "<Figure size 720x504 with 2 Axes>"
      ]
     },
     "metadata": {},
     "output_type": "display_data"
    }
   ],
   "source": [
    "cm = print_confusion_matrix(confusion_matrix(y_test, rdf_sm.predict(X_test)), ['ACCEPTED', 'DENIED'])\n"
   ]
  },
  {
   "cell_type": "markdown",
   "metadata": {},
   "source": [
    "## XGBoost"
   ]
  },
  {
   "cell_type": "code",
   "execution_count": 58,
   "metadata": {},
   "outputs": [
    {
     "name": "stdout",
     "output_type": "stream",
     "text": [
      "(1893238, 54) (1893238,)\n"
     ]
    }
   ],
   "source": [
    "X = np.array(df1.iloc[:, 1:])\n",
    "y = np.array(df1.iloc[:, 0])\n",
    "print(X.shape, y.shape)"
   ]
  },
  {
   "cell_type": "code",
   "execution_count": 59,
   "metadata": {},
   "outputs": [],
   "source": [
    "X_train, X_test, y_train, y_test = train_test_split(X, y, test_size = 0.2, random_state = 40)"
   ]
  },
  {
   "cell_type": "code",
   "execution_count": 71,
   "metadata": {},
   "outputs": [],
   "source": [
    "import xgboost \n",
    "xgb =xgboost.XGBClassifier(base_score=0.5, booster='gbtree', colsample_bylevel=1,\n",
    "       colsample_bytree=1, gamma=0, learning_rate=0.5, max_delta_step=0,\n",
    "       max_depth=6, max_features='sqrt', min_child_weight=3, missing=None,\n",
    "       n_estimators=100, n_jobs=1, nthread=None,\n",
    "       objective='binary:logistic', random_state=10, reg_alpha=0,\n",
    "       reg_lambda=1, scale_pos_weight=1, seed=None, silent=True,\n",
    "       subsample=0.8)"
   ]
  },
  {
   "cell_type": "code",
   "execution_count": 123,
   "metadata": {},
   "outputs": [],
   "source": [
    "from xgboost import XGBClassifier\n",
    "\n",
    "xgb.fit(X_train, y_train)\n",
    "xgb.score(X_train, y_train)\n",
    "xgb_y_pred = xgb.predict(X_test)"
   ]
  },
  {
   "cell_type": "code",
   "execution_count": 128,
   "metadata": {},
   "outputs": [
    {
     "name": "stdout",
     "output_type": "stream",
     "text": [
      "0.05017623885548414 0.09540705696826338\n"
     ]
    }
   ],
   "source": [
    "print(recall_score(y_test,xgb_y_pred),\n",
    "      f1_score(y_test,xgb_y_pred))"
   ]
  },
  {
   "cell_type": "code",
   "execution_count": 157,
   "metadata": {},
   "outputs": [
    {
     "name": "stdout",
     "output_type": "stream",
     "text": [
      "[[373817      8]\n",
      " [  4581    242]]\n",
      "              precision    recall  f1-score   support\n",
      "\n",
      "           0       0.99      1.00      0.99    373825\n",
      "           1       0.97      0.05      0.10      4823\n",
      "\n",
      "   micro avg       0.99      0.99      0.99    378648\n",
      "   macro avg       0.98      0.53      0.54    378648\n",
      "weighted avg       0.99      0.99      0.98    378648\n",
      "\n"
     ]
    }
   ],
   "source": [
    "print(confusion_matrix(y_test, xgb_y_pred))\n",
    "print(classification_report(y_test,xgb_y_pred))\n"
   ]
  },
  {
   "cell_type": "code",
   "execution_count": 188,
   "metadata": {},
   "outputs": [
    {
     "name": "stdout",
     "output_type": "stream",
     "text": [
      "XGBoost confusion matrix: \n",
      "\n",
      " [[373817      8]\n",
      " [  4581    242]]\n"
     ]
    }
   ],
   "source": [
    "from sklearn.metrics import confusion_matrix\n",
    "print(\"XGBoost confusion matrix: \\n\\n\", confusion_matrix(y_test, xgb.predict(X_test)))"
   ]
  },
  {
   "cell_type": "markdown",
   "metadata": {},
   "source": [
    "### split the data into obj and eval sets and try XGB"
   ]
  },
  {
   "cell_type": "code",
   "execution_count": 39,
   "metadata": {},
   "outputs": [],
   "source": [
    "X = np.array(df1.iloc[:, 1:])\n",
    "y = np.array(df1.iloc[:, 0])\n",
    "X_train, X_test, y_train, y_test = train_test_split(X, y, test_size = 0.2, random_state =1)\n",
    "X_train, X_val, y_train, y_val = train_test_split(X, y, test_size = 0.25, random_state = 2)\n",
    "                                                   "
   ]
  },
  {
   "cell_type": "code",
   "execution_count": 40,
   "metadata": {},
   "outputs": [],
   "source": [
    "import xgboost\n",
    "gbm =  xgboost.XGBClassifier(base_score=0.5, booster='gbtree', colsample_bylevel=1,\n",
    "       colsample_bytree=1, gamma=0, learning_rate=0.05, max_delta_step=0,\n",
    "       max_depth=10, max_features='sqrt', min_child_weight=3, missing=None,\n",
    "       n_estimators=30000, n_jobs=1, nthread=None,\n",
    "       objective='binary:logistic', random_state=10, reg_alpha=0,\n",
    "       reg_lambda=1, scale_pos_weight=1, seed=None, silent=True,\n",
    "       subsample=0.8)"
   ]
  },
  {
   "cell_type": "code",
   "execution_count": 41,
   "metadata": {},
   "outputs": [],
   "source": [
    "gbm_eval_set = [(X_train, y_train),(X_val, y_val)]\n",
    "fit_gbm = gbm.fit(X_train, y_train, \n",
    "                  eval_set = gbm_eval_set,\n",
    "                  eval_metric = 'error',\n",
    "                  early_stopping_rounds = 50,\n",
    "                  verbose = False)"
   ]
  },
  {
   "cell_type": "code",
   "execution_count": 43,
   "metadata": {},
   "outputs": [
    {
     "name": "stdout",
     "output_type": "stream",
     "text": [
      "0.9880336657915868\n",
      "0.9360902255639098\n",
      "0.053456419063975955\n",
      "0.10113728675873274\n"
     ]
    }
   ],
   "source": [
    "print(accuracy_score(y_test, gbm.predict(X_test, ntree_limit = gbm.best_ntree_limit)))\n",
    "print(precision_score(y_test,gbm.predict(X_test, ntree_limit = gbm.best_ntree_limit)))\n",
    "print(recall_score(y_test,gbm.predict(X_test, ntree_limit = gbm.best_ntree_limit)))\n",
    "print(f1_score(y_test, gbm.predict(X_test, ntree_limit = gbm.best_ntree_limit)))"
   ]
  },
  {
   "cell_type": "code",
   "execution_count": 45,
   "metadata": {},
   "outputs": [
    {
     "name": "stdout",
     "output_type": "stream",
     "text": [
      "XGBoost confusion matrix: \n",
      "\n",
      " [[365196     17]\n",
      " [  4409    249]]\n"
     ]
    }
   ],
   "source": [
    "from sklearn.metrics import confusion_matrix\n",
    "print(\"XGBoost confusion matrix: \\n\\n\", confusion_matrix(y_test, gbm.predict(X_test)))"
   ]
  },
  {
   "cell_type": "code",
   "execution_count": 102,
   "metadata": {},
   "outputs": [
    {
     "data": {
      "image/png": "[encoded data removed]",
      "text/plain": [
       "<Figure size 720x504 with 2 Axes>"
      ]
     },
     "metadata": {},
     "output_type": "display_data"
    }
   ],
   "source": [
    "cm = print_confusion_matrix(confusion_matrix(y_test, gbm.predict(X_test)), ['ACCEPTED', 'DENIED'])"
   ]
  },
  {
   "cell_type": "code",
   "execution_count": 115,
   "metadata": {},
   "outputs": [
    {
     "data": {
      "image/png": "[encoded data removed]",
      "text/plain": [
       "<Figure size 432x288 with 1 Axes>"
      ]
     },
     "metadata": {},
     "output_type": "display_data"
    }
   ],
   "source": [
    "#generate ROC curve\n",
    "predict_proba = gbm.predict_proba(X_test > 0.1)\n",
    "fpr_gbm, tpr_gbm, thresholds = metrics.roc_curve(y_test,predict_proba[:,1])\n",
    "auc_gbm = np.trapz(tpr_gbm,fpr_gbm)\n",
    "plt.plot(fpr_gbm,tpr_gbm,label=\" auc=\"+str(auc_gbm))\n",
    "plt.xlabel('False positive', fontsize = 14)\n",
    "plt.ylabel('True positive', fontsize = 14)\n",
    "plt.title('ROC curve', fontsize = 16)\n",
    "plt.rc('xtick', labelsize=10)\n",
    "plt.rc('ytick', labelsize=10)\n",
    "plt.legend(loc=4)\n",
    "plt.show()"
   ]
  },
  {
   "cell_type": "code",
   "execution_count": 47,
   "metadata": {},
   "outputs": [],
   "source": [
    "def my_plot_importance(booster, figsize, **kwargs): \n",
    "    from matplotlib import pyplot as plt\n",
    "    from xgboost import plot_importance\n",
    "    fig, ax = plt.subplots(1,1,figsize=figsize)\n",
    "    return plot_importance(booster=booster, ax=ax, **kwargs)"
   ]
  },
  {
   "cell_type": "code",
   "execution_count": 122,
   "metadata": {},
   "outputs": [
    {
     "data": {
      "image/png": "[encoded data removed]",
      "text/plain": [
       "<Figure size 432x576 with 1 Axes>"
      ]
     },
     "metadata": {},
     "output_type": "display_data"
    }
   ],
   "source": [
    "feature_imp = (my_plot_importance(gbm,importance_type = 'gain', figsize=(6,8))"
   ]
  },
  {
   "cell_type": "code",
   "execution_count": 212,
   "metadata": {},
   "outputs": [
    {
     "data": {
      "image/png": "[encoded data removed]",
      "text/plain": [
       "<Figure size 432x288 with 1 Axes>"
      ]
     },
     "metadata": {},
     "output_type": "display_data"
    }
   ],
   "source": [
    "feat_importances = pd.Series(gbm.feature_importances_, index=X.columns)\n",
    "feat_importances.nlargest(20).plot(kind='bar')\n",
    "plt.title('Feature importance', fontsize = 16)\n",
    "plt.rc('xtick', labelsize=10)\n",
    "plt.rc('ytick', labelsize=10)\n"
   ]
  },
  {
   "cell_type": "markdown",
   "metadata": {},
   "source": [
    "### XGBoost without evaluation"
   ]
  },
  {
   "cell_type": "code",
   "execution_count": 73,
   "metadata": {},
   "outputs": [],
   "source": [
    "X = np.array(df1.iloc[:, 1:])\n",
    "y = np.array(df1.iloc[:, 0])\n",
    "X_train, X_test, y_train, y_test = train_test_split(X, y, test_size = 0.2, random_state =40)\n",
    "gbm =  xgboost.XGBClassifier(base_score=0.5, booster='gbtree', colsample_bylevel=1,\n",
    "       colsample_bytree=1, gamma=0, learning_rate=0.05, max_delta_step=0,\n",
    "       max_depth=10, max_features='sqrt', min_child_weight=3, missing=None,\n",
    "       n_estimators=30000, n_jobs=1, nthread=None,\n",
    "       objective='binary:logistic', random_state=10, reg_alpha=0,\n",
    "       reg_lambda=1, scale_pos_weight=1, seed=None, silent=True,\n",
    "       subsample=0.8)\n"
   ]
  },
  {
   "cell_type": "code",
   "execution_count": null,
   "metadata": {},
   "outputs": [],
   "source": [
    "xgb.fit(X_train, y_train)\n",
    "xgb.score(X_train, y_train)\n",
    "xgb_y_pred = xgb.predict(X_test)"
   ]
  },
  {
   "cell_type": "code",
   "execution_count": 156,
   "metadata": {},
   "outputs": [
    {
     "name": "stdout",
     "output_type": "stream",
     "text": [
      "[[373812     13]\n",
      " [  4570    253]]\n",
      "              precision    recall  f1-score   support\n",
      "\n",
      "           0       0.99      1.00      0.99    373825\n",
      "           1       0.95      0.05      0.10      4823\n",
      "\n",
      "   micro avg       0.99      0.99      0.99    378648\n",
      "   macro avg       0.97      0.53      0.55    378648\n",
      "weighted avg       0.99      0.99      0.98    378648\n",
      "\n"
     ]
    }
   ],
   "source": [
    "print(confusion_matrix(y_test, gbm_y_pred))\n",
    "print(classification_report(y_test,gbm_y_pred))\n"
   ]
  },
  {
   "cell_type": "code",
   "execution_count": 158,
   "metadata": {},
   "outputs": [
    {
     "data": {
      "text/plain": [
       "0.5262111006774853"
      ]
     },
     "execution_count": 158,
     "metadata": {},
     "output_type": "execute_result"
    }
   ],
   "source": [
    "roc_auc_score(y_test, gbm_y_pred)"
   ]
  },
  {
   "cell_type": "code",
   "execution_count": 61,
   "metadata": {},
   "outputs": [
    {
     "ename": "NameError",
     "evalue": "name 'xgb' is not defined",
     "output_type": "error",
     "traceback": [
      "\u001b[0;31m---------------------------------------------------------------------------\u001b[0m",
      "\u001b[0;31mNameError\u001b[0m                                 Traceback (most recent call last)",
      "\u001b[0;32m<ipython-input-61-885872fceb2b>\u001b[0m in \u001b[0;36m<module>\u001b[0;34m\u001b[0m\n\u001b[0;32m----> 1\u001b[0;31m \u001b[0mpredict_proba\u001b[0m \u001b[0;34m=\u001b[0m \u001b[0mxgb\u001b[0m\u001b[0;34m.\u001b[0m\u001b[0mpredict_proba\u001b[0m\u001b[0;34m(\u001b[0m\u001b[0mX_test\u001b[0m\u001b[0;34m[\u001b[0m\u001b[0;34m:\u001b[0m\u001b[0;34m,\u001b[0m \u001b[0;36m1\u001b[0m\u001b[0;34m]\u001b[0m \u001b[0;34m>=\u001b[0m \u001b[0;36m0.1\u001b[0m\u001b[0;34m)\u001b[0m\u001b[0;34m\u001b[0m\u001b[0;34m\u001b[0m\u001b[0m\n\u001b[0m\u001b[1;32m      2\u001b[0m \u001b[0mfpr_xgb\u001b[0m\u001b[0;34m,\u001b[0m \u001b[0mtpr_xgb\u001b[0m\u001b[0;34m,\u001b[0m \u001b[0mthresholds\u001b[0m \u001b[0;34m=\u001b[0m \u001b[0mmetrics\u001b[0m\u001b[0;34m.\u001b[0m\u001b[0mroc_curve\u001b[0m\u001b[0;34m(\u001b[0m\u001b[0my_test\u001b[0m\u001b[0;34m,\u001b[0m\u001b[0mpredict_proba\u001b[0m\u001b[0;34m[\u001b[0m\u001b[0;34m:\u001b[0m\u001b[0;34m,\u001b[0m\u001b[0;36m1\u001b[0m\u001b[0;34m]\u001b[0m\u001b[0;34m)\u001b[0m\u001b[0;34m\u001b[0m\u001b[0;34m\u001b[0m\u001b[0m\n",
      "\u001b[0;31mNameError\u001b[0m: name 'xgb' is not defined"
     ]
    }
   ],
   "source": [
    "predict_proba = xgb.predict_proba(X_test[:, 1] >= 0.1)\n",
    "fpr_xgb, tpr_xgb, thresholds = metrics.roc_curve(y_test,predict_proba[:,1])"
   ]
  },
  {
   "cell_type": "code",
   "execution_count": 185,
   "metadata": {},
   "outputs": [
    {
     "data": {
      "image/png": "[encoded data removed]",
      "text/plain": [
       "<Figure size 432x288 with 1 Axes>"
      ]
     },
     "metadata": {
      "needs_background": "light"
     },
     "output_type": "display_data"
    }
   ],
   "source": [
    "auc_xgb = np.trapz(tpr_xgb,fpr_xgb)\n",
    "plt.plot(fpr_xgb,tpr_xgb,label=\" auc=\"+str(auc_xgb))\n",
    "plt.xlabel('FPR')\n",
    "plt.ylabel('TPR')\n",
    "plt.title('ROC curve')\n",
    "plt.legend(loc=4)\n",
    "plt.show()"
   ]
  },
  {
   "cell_type": "code",
   "execution_count": 189,
   "metadata": {},
   "outputs": [
    {
     "name": "stdout",
     "output_type": "stream",
     "text": [
      "XGBoost confusion matrix: \n",
      "\n",
      " [[373812     13]\n",
      " [  4570    253]]\n"
     ]
    }
   ],
   "source": [
    "print(\"XGBoost confusion matrix: \\n\\n\", confusion_matrix(y_test, gbm.predict(X_test)))\n"
   ]
  },
  {
   "cell_type": "code",
   "execution_count": 63,
   "metadata": {},
   "outputs": [
    {
     "data": {
      "text/plain": [
       "{'f1': 14.608742657607303,\n",
       " 'f19': 55.49901619562296,\n",
       " 'f29': 27.181811719472975,\n",
       " 'f25': 28.1500955595862,\n",
       " 'f13': 7.419527472661017,\n",
       " 'f12': 4.860489642048164,\n",
       " 'f17': 4.606582821171428,\n",
       " 'f0': 11.317247656095,\n",
       " 'f53': 2.9655585167450877,\n",
       " 'f3': 2.0218899314532774,\n",
       " 'f26': 27.542805987083337,\n",
       " 'f11': 4.165167915555554,\n",
       " 'f42': 2.8724581453327587,\n",
       " 'f48': 3.0292799743255814,\n",
       " 'f10': 3.382438151333333,\n",
       " 'f16': 1.6616210940000002,\n",
       " 'f2': 1.520543214755268,\n",
       " 'f37': 1.215739649614727,\n",
       " 'f6': 10.836132814666666,\n",
       " 'f23': 10.943945325333337,\n",
       " 'f31': 10.239340644857142,\n",
       " 'f49': 2.0527304527454544,\n",
       " 'f4': 1.3990319694688167,\n",
       " 'f44': 1.2489284860727277,\n",
       " 'f45': 1.491675743328205,\n",
       " 'f5': 1.3623983863949207,\n",
       " 'f32': 1.2810787833689656,\n",
       " 'f35': 1.078755696420513,\n",
       " 'f36': 0.5121358233333333,\n",
       " 'f34': 1.7176160812499996,\n",
       " 'f38': 0.4841918945,\n",
       " 'f47': 1.113945008975,\n",
       " 'f43': 0.49345270811666664,\n",
       " 'f15': 8.6947021475,\n",
       " 'f33': 1.67352295,\n",
       " 'f39': 0.8908742273,\n",
       " 'f46': 1.50024414,\n",
       " 'f41': 1.06298828}"
      ]
     },
     "execution_count": 63,
     "metadata": {},
     "output_type": "execute_result"
    }
   ],
   "source": [
    "gbm.get_booster().get_score(importance_type='gain')"
   ]
  }
 ],
 "metadata": {
  "kernelspec": {
   "display_name": "Python 3",
   "language": "python",
   "name": "python3"
  },
  "language_info": {
   "codemirror_mode": {
    "name": "ipython",
    "version": 3
   },
   "file_extension": ".py",
   "mimetype": "text/x-python",
   "name": "python",
   "nbconvert_exporter": "python",
   "pygments_lexer": "ipython3",
   "version": "3.6.5"
  }
 },
 "nbformat": 4,
 "nbformat_minor": 2
}
